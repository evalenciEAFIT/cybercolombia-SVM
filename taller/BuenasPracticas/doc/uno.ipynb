{
 "cells": [
  {
   "cell_type": "markdown",
   "metadata": {},
   "source": [
    "# Niveles del programa de IA\n",
    "\n",
    "- **Estructura básica del dato**: Estímulos necesarios para el aprendizaje que deben registrarse en colecciones de datos, por lo general arreglos.\n"
   ]
  },
  {
   "cell_type": "markdown",
   "metadata": {},
   "source": [
    "Archivo de cabecera: Punto.h\n"
   ]
  },
  {
   "cell_type": "code",
   "execution_count": null,
   "metadata": {
    "vscode": {
     "languageId": "cpp"
    }
   },
   "outputs": [],
   "source": [
    "#ifndef PUNTO_H\n",
    "#define PUNTO_H\n",
    "\n",
    "#include <vector>\n",
    "\n",
    "class Punto {\n",
    "public:\n",
    "    std::vector<float> caracteristicas;  //las caracteristicas son los estimulos que generan el entorno del problema\n",
    "    int clase;  //Clase es la decisión final o el grupo al que pertenecen los estimulos\n",
    "\n",
    "    Punto(const std::vector<float>& caracteristicas, int clase)\n",
    "        : caracteristicas(caracteristicas), clase(clase) {}\n",
    "};\n",
    "\n",
    "#endif\n"
   ]
  },
  {
   "cell_type": "markdown",
   "metadata": {},
   "source": [
    "Archivo de cabecera: Punto.cpp"
   ]
  },
  {
   "cell_type": "code",
   "execution_count": null,
   "metadata": {
    "vscode": {
     "languageId": "cpp"
    }
   },
   "outputs": [],
   "source": [
    "//No se requiere detallar código por lo simple de Punto.h"
   ]
  },
  {
   "cell_type": "markdown",
   "metadata": {},
   "source": [
    "Comando para compilar para compilar:\n",
    "\n",
    "```sh\n",
    "g++ -c Punto.cpp\n"
   ]
  },
  {
   "cell_type": "code",
   "execution_count": null,
   "metadata": {
    "vscode": {
     "languageId": "cpp"
    }
   },
   "outputs": [],
   "source": [
    "!g++ -c ../src/Punto.cpp -o ../out/Punto.o"
   ]
  },
  {
   "cell_type": "markdown",
   "metadata": {},
   "source": [
    "- **Dataset**: Conjunto de datos que se toman como verdades y se usan como el conocimiento. Por lo general se usa un archivo de datos."
   ]
  },
  {
   "cell_type": "markdown",
   "metadata": {},
   "source": [
    "Archivo de cabecera: Datos.h"
   ]
  },
  {
   "cell_type": "code",
   "execution_count": null,
   "metadata": {
    "vscode": {
     "languageId": "cpp"
    }
   },
   "outputs": [],
   "source": [
    "#ifndef DATOS_H\n",
    "#define DATOS_H\n",
    "\n",
    "#include <vector>\n",
    "#include <string>\n",
    "#include \"Punto.h\"\n",
    "\n",
    "class Datos {\n",
    "public:\n",
    "    std::vector<std::string> etiquetas;  //Arreglo de nombre de estimulos - Variables\n",
    "    std::vector<Punto> leerDatosCSV(const std::string& archivoCSV); //Metodo que extrae los datos del archivo\n",
    "};\n",
    "\n",
    "#endif\n"
   ]
  },
  {
   "cell_type": "markdown",
   "metadata": {},
   "source": [
    "Archivo de cuerpo: Datos.cpp"
   ]
  },
  {
   "cell_type": "code",
   "execution_count": null,
   "metadata": {
    "vscode": {
     "languageId": "cpp"
    }
   },
   "outputs": [],
   "source": [
    "#include \"Datos.h\"\n",
    "\n",
    "#include <fstream>\n",
    "#include <sstream>\n",
    "#include <iostream>\n",
    "\n",
    "std::vector<Punto> Datos::leerDatosCSV(const std::string& archivoCSV) {\n",
    "    std::vector<Punto> puntos;\n",
    "    std::ifstream archivo(archivoCSV);\n",
    "\n",
    "    if (archivo.is_open()) {\n",
    "        std::string linea;\n",
    "        // Leer la primera línea (encabezado) y almacenar las etiquetas\n",
    "        std::getline(archivo, linea);\n",
    "        std::stringstream headerStream(linea);\n",
    "        std::string etiqueta;\n",
    "        std::getline(headerStream, etiqueta, ','); // id\n",
    "        std::getline(headerStream, etiqueta, ','); // diagnosis\n",
    "        while (std::getline(headerStream, etiqueta, ',')) {  //caracteristicas\n",
    "            etiquetas.push_back(etiqueta);\n",
    "        }\n",
    "\n",
    "        // Leer los datos\n",
    "        while (std::getline(archivo, linea)) {\n",
    "            std::stringstream lineStream(linea);\n",
    "            std::string cell;\n",
    "            std::vector<float> caracteristicas;\n",
    "            int clase;\n",
    "\n",
    "            // Leer id y diagnóstico\n",
    "            std::getline(lineStream, cell, ','); // id\n",
    "            std::getline(lineStream, cell, ','); // diagnóstico\n",
    "            clase = (cell == \"M\") ? 1 : -1;  //Maligno - Benigno\n",
    "\n",
    "            // Leer las características\n",
    "            while (std::getline(lineStream, cell, ',')) {\n",
    "                caracteristicas.push_back(std::stof(cell));\n",
    "            }\n",
    "\n",
    "            // Crear un nuevo punto de datos y agregarlo al vector\n",
    "            puntos.emplace_back(caracteristicas, clase);\n",
    "        }\n",
    "        archivo.close();\n",
    "    } else {\n",
    "        // Colores para la salida\n",
    "        const std::string rojo = \"\\033[41;30m\";\n",
    "        const std::string reset = \"\\033[0m\";\n",
    "\n",
    "        std::cerr << rojo << \"Error al abrir el archivo CSV: \" << archivoCSV << reset << std::endl;\n",
    "    }\n",
    "\n",
    "    return puntos;\n",
    "}\n"
   ]
  },
  {
   "cell_type": "markdown",
   "metadata": {},
   "source": [
    "Comando para compilar para compilar:\n",
    "\n",
    "```sh\n",
    "g++ -c Datos.cpp"
   ]
  },
  {
   "cell_type": "code",
   "execution_count": null,
   "metadata": {
    "vscode": {
     "languageId": "cpp"
    }
   },
   "outputs": [],
   "source": [
    "!g++ -c ../src/Datos.cpp -o ../out/Datos.o"
   ]
  },
  {
   "cell_type": "markdown",
   "metadata": {},
   "source": [
    "- **Modelo**: Operaciones matemáticas que transforman los datos y disponen de una nueva estructura para lograr con los nuevos estímulos una decisión, al aplicar una ecuación matemática."
   ]
  },
  {
   "cell_type": "markdown",
   "metadata": {},
   "source": [
    "***Conceptos clave de la estadística y el aprendizaje automático que son fundamentales para entender cómo funcionan y se optimizan los modelos.***\n",
    "\n",
    "\n",
    "\n",
    "1 \n",
    "**Tasa de aprendizaje**\n",
    "\n",
    "Definición:\n",
    "La tasa de aprendizaje es un hiperparámetro que controla cuán grande es el paso que da el modelo en cada iteración para ajustar sus parámetros durante el proceso de entrenamiento.\n",
    "\n",
    "Analogía:\n",
    "Imaginen que están escalando una montaña y la tasa de aprendizaje es el tamaño de sus pasos. Si los pasos son muy grandes, podrían saltarse la cima y caer por el otro lado (oscilando sin encontrar la mejor solución). Si los pasos son muy pequeños, el proceso será muy lento y podría llevar mucho tiempo llegar a la cima (la solución óptima).\n",
    "\n",
    "Impacto en el modelo:\n",
    "\n",
    " - Alta tasa de aprendizaje: Puede acelerar el entrenamiento, pero corre el riesgo de no converger o incluso divergir.\n",
    " - Baja tasa de aprendizaje: Conduce a una convergencia más estable, pero puede hacer que el entrenamiento sea extremadamente lento.\n",
    "\n",
    "2 \n",
    "**Parámetros regulatorios (para evitar el sobreajuste - overfitting)**\n",
    "\n",
    "Definición:\n",
    "El sobreajuste ocurre cuando un modelo se ajusta demasiado bien a los datos de entrenamiento, capturando tanto las tendencias reales como el ruido aleatorio, lo que resulta en un mal desempeño con datos nuevos o de prueba.\n",
    "\n",
    "Ejemplo:\n",
    "Imaginen que están tratando de predecir el precio de una casa basándose en varios factores como el tamaño, la ubicación y el número de habitaciones. Si su modelo está sobreajustado, podría estar basando sus predicciones en detalles muy específicos de las casas en el conjunto de entrenamiento que no son representativos en general.\n",
    "\n",
    "Parámetros regulatorios comunes:\n",
    "\n",
    "**Regularización L1 y L2:** Agregan una penalización por tener coeficientes de parámetros grandes, lo que ayuda a evitar que el modelo se ajuste demasiado a los datos de entrenamiento.\n",
    "- L1 (Lasso): Tiende a hacer que algunos coeficientes sean exactamente cero, lo que puede llevar a modelos más simples y fáciles de interpretar.\n",
    "- L2 (Ridge): Distribuye los coeficientes más uniformemente sin hacerlos exactamente cero.\n",
    "Dropout (en redes neuronales): Durante el entrenamiento, se \"apagan\" aleatoriamente ciertas neuronas en cada iteración, lo que obliga a la red a no depender demasiado de ninguna neurona en particular.\n",
    "\n",
    "3\n",
    "**Sesgo (Bias)**\n",
    "Definición:\n",
    "El sesgo es la diferencia entre las predicciones promedio de nuestro modelo y los valores reales que estamos tratando de predecir. Un alto sesgo indica que el modelo no está capturando correctamente las tendencias subyacentes de los datos.\n",
    "\n",
    "Ejemplo:\n",
    "Volviendo al ejemplo de las casas, si su modelo tiene un alto sesgo, podría subestimar o sobreestimar sistemáticamente los precios de las casas sin importar cuánto entrenen el modelo.\n",
    "\n",
    "Relación con la varianza:\n",
    "\n",
    "- Sesgo alto, varianza baja: El modelo es demasiado simple y no captura bien las complejidades de los datos (subajuste).\n",
    "- Sesgo bajo, varianza alta: El modelo captura demasiados detalles de los datos de entrenamiento y no generaliza bien (sobreajuste).\n",
    "- Sesgo y varianza equilibrados: El objetivo es encontrar un punto intermedio donde el modelo capture adecuadamente las tendencias de los datos sin ajustarse demasiado a los detalles específicos del conjunto de entrenamiento.\n",
    "\n",
    "\n",
    "\n",
    "Archivo de cabecera: SVM.h"
   ]
  },
  {
   "cell_type": "code",
   "execution_count": null,
   "metadata": {
    "vscode": {
     "languageId": "cpp"
    }
   },
   "outputs": [],
   "source": [
    "#ifndef SVM_H\n",
    "#define SVM_H\n",
    "\n",
    "#include <vector>\n",
    "#include <string>\n",
    "#include \"Punto.h\"\n",
    "\n",
    "class SVM {\n",
    "private:\n",
    "    std::vector<float> weights;  //vector de pesos, son los estimulos\n",
    "    float bias;  //en la información del sesgo\n",
    "    float learningRate;  //tasa de aprendizaje\n",
    "    float regularizationParam;  //overfitting\n",
    "\n",
    "public:\n",
    "    SVM(float learningRate, float regularizationParam, int numCaracteristicas);\n",
    "\n",
    "    void entrenar(const std::vector<Punto>& puntos, int epochs, bool mostrarProgreso = false);  //metodo para entrenar\n",
    "    int clasificar(const Punto& puntoNuevo) const; //metodo para clasificar\n",
    "    void imprimirParametros(const std::vector<std::string>& etiquetas, bool mostarResumen = false) const;  //metodo para inscribir los parametros\n",
    "};\n",
    "\n",
    "#endif\n"
   ]
  },
  {
   "cell_type": "markdown",
   "metadata": {},
   "source": [
    "Archivo del cuerpo: SVM.cpp"
   ]
  },
  {
   "cell_type": "code",
   "execution_count": null,
   "metadata": {
    "vscode": {
     "languageId": "cpp"
    }
   },
   "outputs": [],
   "source": [
    "#include \"SVM.h\"\n",
    "#include <iostream>\n",
    "#include <iomanip>\n",
    "#include <chrono>\n",
    "#include <stdexcept>\n",
    "#include <cmath>\n",
    "#include <ctime>  // Para std::chrono::milliseconds\n",
    "#include <sys/resource.h> // Para obtener el uso de memoria\n",
    "\n",
    "// Secuencia de escape para colores ANSI\n",
    "#define ANSI_COLOR_GREEN   \"\\x1b[32m\"\n",
    "#define ANSI_COLOR_RESET   \"\\x1b[0m\"\n",
    "\n",
    "SVM::SVM(float learningRate, float regularizationParam, int numCaracteristicas)\n",
    "    : learningRate(learningRate), regularizationParam(regularizationParam), bias(0.0) {\n",
    "    if (numCaracteristicas <= 0) {\n",
    "        throw std::invalid_argument(\"El número de características debe ser mayor que 0.\");\n",
    "    }\n",
    "    weights = std::vector<float>(numCaracteristicas, 0.0); // Inicializar pesos para las características\n",
    "}\n",
    "\n",
    "void SVM::entrenar(const std::vector<Punto>& puntos, int epochs, bool mostrarProgreso) {\n",
    "    if (epochs <= 0) {\n",
    "        throw std::invalid_argument(\"El número de épocas debe ser mayor que 0.\");\n",
    "    }\n",
    "    if (puntos.empty()) {\n",
    "        throw std::invalid_argument(\"El conjunto de puntos no debe estar vacío.\");\n",
    "    }\n",
    "\n",
    "    auto start = std::chrono::high_resolution_clock::now(); // Marca de tiempo de inicio\n",
    "\n",
    "    if (mostrarProgreso) {\n",
    "        std::cout << \"ENTRENANDO EL MODELO\" << \"\\n--------------------\" << std::endl;\n",
    "    }\n",
    "    \n",
    "    //ajustar el modelo por iteraciones\n",
    "    for (int epoch = 0; epoch < epochs; ++epoch) {\n",
    "        int correct = 0; // Para contar el número de clasificaciones correctas\n",
    "\n",
    "        //- - - - - [ OPERACIONES MATETICAS DEL MODELO ] - - - - - - - - - - \n",
    "        for (size_t i = 0; i < puntos.size(); ++i) {\n",
    "            const auto& punto = puntos[i];\n",
    "            // Calcular x.w + b\n",
    "            float decision = 0.0;\n",
    "            for (size_t j = 0; j < punto.caracteristicas.size(); ++j) {\n",
    "                decision += punto.caracteristicas[j] * weights[j];\n",
    "            }\n",
    "            decision += bias;\n",
    "\n",
    "            // Verificar si se viola la condición de margen\n",
    "            if (punto.clase * decision <= 0) {\n",
    "                // Actualizar pesos y bias\n",
    "                for (size_t j = 0; j < weights.size(); ++j) {\n",
    "                    weights[j] += learningRate * (punto.clase * punto.caracteristicas[j] - regularizationParam * weights[j]);\n",
    "                }\n",
    "                bias += learningRate * punto.clase;\n",
    "            } else {\n",
    "                correct++;\n",
    "            }\n",
    "        //- - - - - - - - - - - - - - - - - - - - - - - -  \n",
    "\n",
    "            if (mostrarProgreso) {\n",
    "                // Simular espera para visualizar la barra de progreso\n",
    "                std::this_thread::sleep_for(std::chrono::milliseconds(5));\n",
    "\n",
    "                // Mostrar progreso\n",
    "                int interval = puntos.size() / 10 == 0 ? 1 : puntos.size() / 10; // Evitar división por cero\n",
    "                if (i % interval == 0 || i == puntos.size() - 1) { // Muestra progreso cada 10% y al final\n",
    "                    int progress = static_cast<int>(std::round((i + 1) * 100.0 / puntos.size()));\n",
    "                    int barWidth = 20;\n",
    "                    int pos = barWidth * progress / 100;\n",
    "\n",
    "                    // Obtener el uso de memoria\n",
    "                    struct rusage usage;\n",
    "                    getrusage(RUSAGE_SELF, &usage);\n",
    "                    long memoryUsage = usage.ru_maxrss; // Uso máximo de memoria residente\n",
    "\n",
    "                    std::cout << \"\\rEpoch \" << epoch + 1 << \"/\" << epochs \n",
    "                              << \" [\";\n",
    "                    for (int k = 0; k < barWidth; ++k) {\n",
    "                        if (k < pos) std::cout << \"=\";\n",
    "                        else if (k == pos) std::cout << \">\";\n",
    "                        else std::cout << \" \";\n",
    "                    }\n",
    "                    std::cout << \"] \" << std::setw(3) << progress << \"% \"\n",
    "                              << \"Correctos: \" << correct << \" de \" << puntos.size()\n",
    "                              << std::flush;\n",
    "                }\n",
    "            }\n",
    "        }\n",
    "        // Fin de la época\n",
    "        if (mostrarProgreso) {\n",
    "            std::cout << \"\\rEpoch \" << epoch + 1 << \"/\" << epochs << \" [====================] \" << ANSI_COLOR_GREEN << \"100% Correctos: \" << correct << \" de \" << puntos.size() <<\" (NO violan la condición de margen)\" << ANSI_COLOR_RESET <<\" { \" << \"Sesgo (Bias): \" << bias <<\" }\" << std::endl;\n",
    "        }\n",
    "    }\n",
    "\n",
    "    auto end = std::chrono::high_resolution_clock::now(); // Marca de tiempo de fin\n",
    "    std::chrono::duration<double> duration = end - start; // Duración del entrenamiento\n",
    "\n",
    "    // Obtener el uso de memoria final\n",
    "    struct rusage usage;\n",
    "    getrusage(RUSAGE_SELF, &usage);\n",
    "    long memoryUsage = usage.ru_maxrss; // Uso máximo de memoria residente\n",
    "\n",
    "    if (mostrarProgreso) {\n",
    "        std::cout << \"\\nRESUMEN CONSUMO ENTRENAMIENTO\\n\";\n",
    "        std::cout << \" - Entrenamiento completo en \" << duration.count() << \" segundos.\" << std::endl;\n",
    "        std::cout << \" - Uso máximo de memoria: \" << memoryUsage << \" KB\" << std::endl << std::endl;\n",
    "    } else {\n",
    "        std::cout << \"Modelo entrenado \" << ANSI_COLOR_GREEN <<\"OK.\" << ANSI_COLOR_RESET << std::endl << std::endl;\n",
    "    }\n",
    "}\n",
    "\n",
    "int SVM::clasificar(const Punto& puntoNuevo) const {\n",
    "    float decision = 0.0;\n",
    "    for (size_t i = 0; i < puntoNuevo.caracteristicas.size(); ++i) {\n",
    "        decision += puntoNuevo.caracteristicas[i] * weights[i];\n",
    "    }\n",
    "    decision += bias;\n",
    "    return (decision >= 0) ? 1 : -1;\n",
    "}\n",
    "\n",
    "void SVM::imprimirParametros(const std::vector<std::string>& etiquetas, bool mostarResumen) const {\n",
    "    if (mostarResumen){\n",
    "        std::cout << \"\\nRESUMEN DE LOS PARÁMETROS\" << \"\\n----------------------------\" << std::endl;\n",
    "        for (size_t i = 0; i < weights.size(); ++i) {\n",
    "            std::cout << \" w\" << i << \" {\" << etiquetas[i] << \"}: \" << weights[i] << std::endl;\n",
    "        }\n",
    "        std::cout << \" B: \" << bias << std::endl << std::endl;\n",
    "    } else {\n",
    "        std::cout << \"Modelo entrenado \" << ANSI_COLOR_GREEN <<\"OK.\" << ANSI_COLOR_RESET << std::endl << std::endl;\n",
    "    }\n",
    "}\n"
   ]
  },
  {
   "cell_type": "markdown",
   "metadata": {},
   "source": [
    "Comando para compilar para compilar:\n",
    "\n",
    "```sh\n",
    "g++ -c SVM.cpp"
   ]
  },
  {
   "cell_type": "code",
   "execution_count": null,
   "metadata": {
    "vscode": {
     "languageId": "cpp"
    }
   },
   "outputs": [],
   "source": [
    "!g++ -c ../src/SVM.cpp -o ../out/SVM.o"
   ]
  },
  {
   "cell_type": "markdown",
   "metadata": {},
   "source": [
    "Ahora se construira el código principal que une todo: Punto + Datos + Modelo\n",
    "\n",
    "Nombre del programa principal: main.cpp\n",
    "\n",
    "Comando para compilar para compilar:\n",
    "\n",
    "```sh\n",
    "g++  main.cpp ../out/Punto.o ../out/Datos.o ../out/SVM.o -o ../out/demo"
   ]
  },
  {
   "cell_type": "code",
   "execution_count": null,
   "metadata": {
    "vscode": {
     "languageId": "cpp"
    }
   },
   "outputs": [],
   "source": [
    "!g++ ../src/main.cpp ../out/Punto.o ../out/Datos.o ../out/SVM.o -o ../out/demo "
   ]
  },
  {
   "cell_type": "code",
   "execution_count": null,
   "metadata": {
    "vscode": {
     "languageId": "cpp"
    }
   },
   "outputs": [],
   "source": [
    "#include <iostream>\n",
    "#include <vector>\n",
    "#include <string>\n",
    "#include <limits>\n",
    "#include \"Datos.h\"\n",
    "#include \"SVM.h\"\n",
    "\n",
    "\n",
    "// Colores para la salida\n",
    "const std::string rojo = \"\\033[41;30m\";\n",
    "const std::string verde = \"\\033[42;30m\";\n",
    "const std::string reset = \"\\033[0m\";\n",
    "\n",
    "void ingresarYClasificar(SVM& svm, const std::vector<std::string>& etiquetas);\n",
    "void parsear_argumentos(int argc, char* argv[], std::string& fuente_datos, float& tasa_aprendizaje, float& overfitting, int& epocas, bool& echo);\n",
    " \n",
    "\n",
    "int main(int argc, char* argv[]) {\n",
    "\n",
    "    // Variables para almacenar los valores de los argumentos y valores por defecto \n",
    "    std::string fuente_datos;  //dataser con datos de conocimiento\n",
    "    float tasa_aprendizaje = 0.001; //control de la velocidad de aprendizaje de modelo\n",
    "    float overfitting = 0.001; //parámetro de regularización\n",
    "    int epocas = 5;  //iteraciones del modelo\n",
    "    bool echo = false;  //Bandera para ver o no el entrenamiento\n",
    "\n",
    "    try {\n",
    "        // Parsear argumentos de línea de comandos\n",
    "        parsear_argumentos(argc, argv, fuente_datos, tasa_aprendizaje, overfitting, epocas, echo);\n",
    "\n",
    "        // Imprimir información del programa\n",
    "        std::cout << \"Ejecución del programa...\\n\\n\"; \n",
    "        std::cout << \"DATOS DE LA INSTANCIA DEL PROGRAMA\" << \"\\n----------------------------------\\n\";\n",
    "        std::cout << \" - Información del programa:\" << std::endl;\n",
    "        std::cout << \" - Fuente de datos: \" << fuente_datos << std::endl;\n",
    "        std::cout << \" - Tasa de aprendizaje: \" << tasa_aprendizaje << std::endl;\n",
    "        std::cout << \" - Overfitting: \" << overfitting << std::endl;\n",
    "        std::cout << \" - Epocas: \" << epocas << std::endl;\n",
    "        std::cout << \" - Echo: \" << (echo ? \"true\" : \"false\") << std::endl << std::endl;\n",
    "\n",
    "        //Cargar el Dataset\n",
    "        Datos lector;\n",
    "        std::vector<Punto> puntos = lector.leerDatosCSV(fuente_datos);\n",
    "        // Verificar que se leyeron datos correctamente\n",
    "        if (puntos.empty() || lector.etiquetas.empty()) {\n",
    "            std::cerr << rojo << \"No se pudieron leer los datos del archivo CSV.\" << reset << std::endl;\n",
    "            return 1;\n",
    "        }\n",
    "\n",
    "        // Crear el modelo SVM\n",
    "        int numCaracteristicas = puntos[0].caracteristicas.size(); //cantidad de variables o atributos que describen la instancia en un conjunto de datos.\n",
    "        SVM svm(tasa_aprendizaje, overfitting, numCaracteristicas);\n",
    "\n",
    "        // Entrenar el modelo SVM\n",
    "        svm.entrenar(puntos, epocas, echo);\n",
    "\n",
    "        // Mostrar los pesos y el sesgo del hiperplano separador\n",
    "        svm.imprimirParametros(lector.etiquetas, echo);\n",
    "\n",
    "        // Ingresar y clasificar un nuevo punto de datos\n",
    "        ingresarYClasificar(svm, lector.etiquetas);\n",
    "\n",
    "    } catch (const std::runtime_error& e) {\n",
    "        std::cerr << \"Error: \" << e.what() << std::endl;\n",
    "        return 1;\n",
    "    }\n",
    "\n",
    "    return 0;\n",
    "}\n",
    "\n",
    "//=============================================================================\n",
    "void ingresarYClasificar(SVM& svm, const std::vector<std::string>& etiquetas) {\n",
    "    std::cout << \"\\nPRUEBAS\\n\" << \"-------\\n\";\n",
    "\n",
    "    bool otraClasificacion = true;\n",
    "    while (otraClasificacion) {\n",
    "        // Ingresar las características del nuevo punto\n",
    "        std::cout << \"Ingrese las características del nuevo punto:\" << std::endl;\n",
    "        std::vector<float> nuevasCaracteristicas(etiquetas.size());\n",
    "\n",
    "        for (size_t i = 0; i < etiquetas.size(); ++i) {\n",
    "            std::cout << \"  \" << etiquetas[i] << \": \";\n",
    "            while (!(std::cin >> nuevasCaracteristicas[i])) {\n",
    "                std::cin.clear();\n",
    "                std::cin.ignore(std::numeric_limits<std::streamsize>::max(), '\\n');\n",
    "                std::cout << \"         \" << \"\\033[41;30m\" << \"Valor inválido. (Intente de nuevo!)\"<< \"\\033[0m \" << std::endl << \"  \" << etiquetas[i] << \": \";\n",
    "            }\n",
    "        }\n",
    "\n",
    "        Punto puntoNuevo(nuevasCaracteristicas, 0); // La clase es irrelevante para la predicción\n",
    "        int clasePredicha = svm.clasificar(puntoNuevo);\n",
    "\n",
    "        if (clasePredicha == 1) {\n",
    "            std::cout << \"Clase predicha para el nuevo punto: \" << rojo << \"Maligno\" << reset << std::endl;\n",
    "        } else {\n",
    "            std::cout << \"Clase predicha para el nuevo punto: \" << verde << \"Benigno\" << reset << std::endl;\n",
    "        }\n",
    "        std::cout << \"\\033[0m\";\n",
    "\n",
    "        // Preguntar si el usuario desea otra clasificación\n",
    "        char otraClasificacionChar;\n",
    "        std::cout << \"\\n¿Desea otra clasificación? (\"<<verde<<\" [si] s \"<<reset<<\" - \"<<rojo<<\" [no] n \"<<reset<<\"): \";\n",
    "        std::cin >> otraClasificacionChar;\n",
    "\n",
    "        // Convertir la respuesta del usuario a un valor booleano\n",
    "        otraClasificacion = !(otraClasificacionChar == 'n' || otraClasificacionChar == 'N');\n",
    "    }\n",
    "}\n",
    "\n",
    "//============================================================================================================\n",
    "// Función para parsear argumentos de línea de comandos\n",
    "void parsear_argumentos(int argc, char* argv[], std::string& fuente_datos, float& tasa_aprendizaje, float& overfitting, int& epocas, bool& echo) {\n",
    "  // Variables para almacenar argumentos\n",
    "  std::string argumento;\n",
    "\n",
    "  // Procesar cada argumento\n",
    "  for (int i = 1; i < argc; ++i) {\n",
    "    argumento = argv[i];\n",
    "\n",
    "    // Fuente de datos\n",
    "    if (argumento == \"--fuente_datos\") {\n",
    "      if (i + 1 < argc) {\n",
    "        fuente_datos = argv[i + 1];\n",
    "        ++i;\n",
    "      } else {\n",
    "        throw std::runtime_error(\"Falta el argumento para --fuente_datos\");\n",
    "      }\n",
    "    }\n",
    "\n",
    "    // Tasa de aprendizaje\n",
    "    else if (argumento == \"--tasa_aprendizaje\") {\n",
    "      if (i + 1 < argc) {\n",
    "        try {\n",
    "          tasa_aprendizaje = std::stof(argv[i + 1]);\n",
    "        } catch (const std::exception& e) {\n",
    "          throw std::runtime_error(\"Valor inválido para --tasa_aprendizaje: \" + std::string(e.what()));\n",
    "        }\n",
    "        ++i;\n",
    "      } else {\n",
    "        throw std::runtime_error(\"Falta el argumento para --tasa_aprendizaje\");\n",
    "      }\n",
    "    }\n",
    "\n",
    "    // Overfitting\n",
    "    else if (argumento == \"--overfitting\") {\n",
    "      if (i + 1 < argc) {\n",
    "        try {\n",
    "          overfitting = std::stof(argv[i + 1]);\n",
    "        } catch (const std::exception& e) {\n",
    "          throw std::runtime_error(\"Valor inválido para --overfitting: \" + std::string(e.what()));\n",
    "        }\n",
    "        ++i;\n",
    "      } else {\n",
    "        throw std::runtime_error(\"Falta el argumento para --overfitting\");\n",
    "      }\n",
    "    }\n",
    "\n",
    "    // Epocas\n",
    "    else if (argumento == \"--epocas\") {\n",
    "      if (i + 1 < argc) {\n",
    "        try {\n",
    "          epocas = std::stoi(argv[i + 1]);\n",
    "        } catch (const std::exception& e) {\n",
    "          throw std::runtime_error(\"Valor inválido para --epocas: \" + std::string(e.what()));\n",
    "        }\n",
    "        ++i;\n",
    "      } else {\n",
    "        throw std::runtime_error(\"Falta el argumento para --epocas\");\n",
    "      }\n",
    "    }\n",
    "\n",
    "    // Echo\n",
    "    else if (argumento == \"--echo\") {\n",
    "      echo = true;\n",
    "    }\n",
    "\n",
    "    // Argumento no reconocido\n",
    "    else {\n",
    "      throw std::runtime_error(\"Argumento no reconocido: \" + argumento);\n",
    "    }\n",
    "  }\n",
    "}\n"
   ]
  },
  {
   "cell_type": "markdown",
   "metadata": {},
   "source": [
    "\n",
    "Instrucción para ejecutarla\n",
    "```sh\n",
    "../out/demo --fuente_datos ../../../dataset/datos.csv --tasa_aprendizaje 0.0001 --overfitting 0.0001 --epocas 10 --echo"
   ]
  },
  {
   "cell_type": "code",
   "execution_count": null,
   "metadata": {
    "vscode": {
     "languageId": "cpp"
    }
   },
   "outputs": [],
   "source": [
    "!../out/demo --fuente_datos ../../../dataset/datos.csv --tasa_aprendizaje 0.0001 --overfitting 0.0001 --epocas 10 --echo"
   ]
  }
 ],
 "metadata": {
  "language_info": {
   "name": "python"
  }
 },
 "nbformat": 4,
 "nbformat_minor": 2
}
